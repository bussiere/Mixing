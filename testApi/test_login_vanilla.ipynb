{
 "cells": [
  {
   "cell_type": "code",
   "execution_count": 3,
   "metadata": {},
   "outputs": [
    {
     "name": "stdout",
     "output_type": "stream",
     "text": [
      "200\n",
      "b'{\"result\": [\"a\", \"a;b\", \"a;b;c\", \"a;b;c;d\", \"a;b;d\", \"a;c\", \"a;c;d\", \"a;d\", \"b\", \"b;c\", \"b;c;d\", \"b;d\", \"c\", \"c;d\", \"d\"]}'\n"
     ]
    }
   ],
   "source": [
    "import requests\n",
    "\n",
    "# now we make the test\n",
    "login_data = {\n",
    "    \"list\": [\"a\", \"b\", \"c\",\"d\"],\n",
    "    \"separator\": \";\",\n",
    "}\n",
    "r = requests.post(\"https://young-earth-75813.herokuapp.com/api/v1/combine\", json=login_data)\n",
    "print(r.status_code)\n",
    "print(r.content)"
   ]
  },
  {
   "cell_type": "code",
   "execution_count": null,
   "metadata": {
    "collapsed": true
   },
   "outputs": [],
   "source": []
  },
  {
   "cell_type": "code",
   "execution_count": null,
   "metadata": {
    "collapsed": true
   },
   "outputs": [],
   "source": []
  }
 ],
 "metadata": {
  "kernelspec": {
   "display_name": "Python 3",
   "language": "python",
   "name": "python3"
  },
  "language_info": {
   "codemirror_mode": {
    "name": "ipython",
    "version": 3
   },
   "file_extension": ".py",
   "mimetype": "text/x-python",
   "name": "python",
   "nbconvert_exporter": "python",
   "pygments_lexer": "ipython3",
   "version": "3.5.2"
  }
 },
 "nbformat": 4,
 "nbformat_minor": 1
}
