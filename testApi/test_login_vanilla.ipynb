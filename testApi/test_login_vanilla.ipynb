{
 "cells": [
  {
   "cell_type": "code",
   "execution_count": null,
   "metadata": {},
   "outputs": [],
   "source": [
    "import requests\n",
    "data = {\"categories\":[{\"category\":\"french\"},{\"category\":\"60fps\"},{\"category\":\"amateur\"},{\"category\":\"amateur-gay\"},{\"category\":\"arab\"},{\"category\":\"asian-gay\"},{\"category\":\"asian\"},{\"category\":\"babysitter\"},{\"category\":\"bareback-gay\"},{\"category\":\"bear-gay\"},{\"category\":\"behind-the-scenes\"},{\"category\":\"babe\"},{\"category\":\"big-dick-gay\"},{\"category\":\"bisexual\"},{\"category\":\"black-gay\"},{\"category\":\"ebony\"},{\"category\":\"blonde\"},{\"category\":\"blowjob-gay\"},{\"category\":\"bondage\"},{\"category\":\"handjob\"},{\"category\":\"brazilian\"},{\"category\":\"british\"},{\"category\":\"brunette\"},{\"category\":\"bukkake\"},{\"category\":\"cartoon\"},{\"category\":\"casting\"},{\"category\":\"celebrity\"},{\"category\":\"college\"},{\"category\":\"compilation-gay\"},{\"category\":\"compilation\"},{\"category\":\"cosplay\"},{\"category\":\"creampie-gay\"},{\"category\":\"cuckold\"},{\"category\":\"cumshot-gay\"},{\"category\":\"czech\"},{\"category\":\"daddy-gay\"},{\"category\":\"described-video\"},{\"category\":\"double-penetration\"},{\"category\":\"funny\"},{\"category\":\"cumshots\"},{\"category\":\"creampie\"},{\"category\":\"public\"},{\"category\":\"euro\"},{\"category\":\"euro-gay\"},{\"category\":\"exclusive\"},{\"category\":\"college-gay\"},{\"category\":\"feet\"},{\"category\":\"squirt\"},{\"category\":\"party\"},{\"category\":\"fetish\"},{\"category\":\"fetish-gay\"},{\"category\":\"fisting\"},{\"category\":\"gangbang\"},{\"category\":\"gay\"},{\"category\":\"german\"},{\"category\":\"pov\"},{\"category\":\"big-ass\"},{\"category\":\"big-tits\"},{\"category\":\"bbw\"},{\"category\":\"big-dick\"},{\"category\":\"group-gay\"},{\"category\":\"handjob-gay\"},{\"category\":\"hardcore\"},{\"category\":\"hentai\"},{\"category\":\"hunks-gay\"},{\"category\":\"indian\"},{\"category\":\"interracial-gay\"},{\"category\":\"interracial\"},{\"category\":\"italian\"},{\"category\":\"japanese\"},{\"category\":\"japanese-gay\"},{\"category\":\"jock-gay\"},{\"category\":\"korean\"},{\"category\":\"latina\"},{\"category\":\"latino-gay\"},{\"category\":\"lesbian\"},{\"category\":\"massage-gay\"},{\"category\":\"massage\"},{\"category\":\"masturbation\"},{\"category\":\"mature\"},{\"category\":\"mature-gay\"},{\"category\":\"solo-male-gay\"},{\"category\":\"threesome\"},{\"category\":\"milf\"},{\"category\":\"muscle-gay\"},{\"category\":\"music\"},{\"category\":\"old-young\"},{\"category\":\"panda-style\"},{\"category\":\"parody\"},{\"category\":\"orgy\"},{\"category\":\"small-tits\"},{\"category\":\"blowjob\"},{\"category\":\"pissing\"},{\"category\":\"pornstar\"},{\"category\":\"hd-porn\"},{\"category\":\"pornstar-gay\"},{\"category\":\"for-women\"},{\"category\":\"pov-gay\"},{\"category\":\"public-gay\"},{\"category\":\"pussy-licking\"},{\"category\":\"reality\"},{\"category\":\"reality-gay\"},{\"category\":\"vintage\"},{\"category\":\"rough-sex-gay\"},{\"category\":\"red-head\"},{\"category\":\"russian-1\"},{\"category\":\"school\"},{\"category\":\"toys\"},{\"category\":\"rough-sex\"},{\"category\":\"sfw\"},{\"category\":\"smoking\"},{\"category\":\"anal\"},{\"category\":\"solo-male\"},{\"category\":\"straight-guys-gay\"},{\"category\":\"striptease\"},{\"category\":\"teen\"},{\"category\":\"shemale\"},{\"category\":\"twink-gay\"},{\"category\":\"uncut-gay\"},{\"category\":\"uniforms\"},{\"category\":\"verified-amateurs\"},{\"category\":\"vintage-gay\"},{\"category\":\"vr\"},{\"category\":\"vr-gay\"},{\"category\":\"webcam-gay\"},{\"category\":\"webcam\"}]}\n",
    "\n",
    "liste = []\n",
    "\n",
    "for d in data['categories'] :\n",
    "    liste.append(d['category'])\n",
    "\n",
    "\n",
    "# now we make the test\n",
    "login_data = {\n",
    "    \"list\": liste,\n",
    "    \"separator\": \";\",\n",
    "}\n",
    "r = requests.post(\"http://localhost:8000/api/v1/combine\", json=login_data)\n",
    "print(r.status_code)\n",
    "print(r.content)"
   ]
  },
  {
   "cell_type": "code",
   "execution_count": null,
   "metadata": {
    "collapsed": true
   },
   "outputs": [],
   "source": []
  },
  {
   "cell_type": "code",
   "execution_count": null,
   "metadata": {
    "collapsed": true
   },
   "outputs": [],
   "source": []
  }
 ],
 "metadata": {
  "kernelspec": {
   "display_name": "Python 3",
   "language": "python",
   "name": "python3"
  },
  "language_info": {
   "codemirror_mode": {
    "name": "ipython",
    "version": 3
   },
   "file_extension": ".py",
   "mimetype": "text/x-python",
   "name": "python",
   "nbconvert_exporter": "python",
   "pygments_lexer": "ipython3",
   "version": "3.5.2"
  }
 },
 "nbformat": 4,
 "nbformat_minor": 1
}
