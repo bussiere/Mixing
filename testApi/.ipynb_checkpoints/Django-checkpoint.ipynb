{
 "cells": [
  {
   "cell_type": "code",
   "execution_count": 1,
   "metadata": {},
   "outputs": [
    {
     "name": "stdout",
     "output_type": "stream",
     "text": [
      "/home/bussiere/Workspace/reetags\n",
      "[\u001b[92mLoaded\u001b[0m] Local Settings\n"
     ]
    }
   ],
   "source": [
    "MYPROJECT = '/home/bussiere/Workspace/reetags'\n",
    "import os, sys\n",
    "os.chdir(MYPROJECT)\n",
    "os.environ.setdefault(\"DJANGO_SETTINGS_MODULE\", \"kiwixi.settings\")\n",
    "print(os.getcwd())\n",
    "from django.conf import settings\n",
    "User = settings.AUTH_USER_MODEL\n",
    "import django\n",
    "django.setup()"
   ]
  },
  {
   "cell_type": "code",
   "execution_count": null,
   "metadata": {
    "collapsed": true
   },
   "outputs": [],
   "source": []
  }
 ],
 "metadata": {
  "kernelspec": {
   "display_name": "Python 3",
   "language": "python",
   "name": "python3"
  },
  "language_info": {
   "codemirror_mode": {
    "name": "ipython",
    "version": 3
   },
   "file_extension": ".py",
   "mimetype": "text/x-python",
   "name": "python",
   "nbconvert_exporter": "python",
   "pygments_lexer": "ipython3",
   "version": "3.5.2"
  }
 },
 "nbformat": 4,
 "nbformat_minor": 2
}
